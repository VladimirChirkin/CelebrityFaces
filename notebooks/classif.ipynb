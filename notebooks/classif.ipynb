{
 "cells": [
  {
   "cell_type": "code",
   "execution_count": 1,
   "metadata": {},
   "outputs": [],
   "source": [
    "import torch\n",
    "import torchvision\n",
    "import os\n",
    "import pandas as pd\n",
    "import numpy as np\n",
    "from skimage import io\n",
    "import matplotlib.pyplot as plt\n",
    "import tqdm\n",
    "from torch import nn\n",
    "import torch.nn.functional as F\n",
    "from skimage import transform\n",
    "from torch.autograd import Variable\n",
    "import logging"
   ]
  },
  {
   "cell_type": "code",
   "execution_count": 2,
   "metadata": {},
   "outputs": [],
   "source": [
    "with open('../eval/list_attr_celeba.txt') as file:\n",
    "    n = int(file.readline())\n",
    "    columns = file.readline().strip().split()\n",
    "    labels = []\n",
    "    fnames = []\n",
    "    for line in file:\n",
    "        fields = line.strip().split()\n",
    "        fnames.append(fields[0])\n",
    "        labels.append(np.array(list(map(int, fields[1:]))))\n",
    "    labels = np.stack(labels)\n",
    "    fnames = np.array(fnames)\n",
    "f_ids = dict(zip(fnames, range(len(fnames))))\n",
    "labels = (labels + 1) // 2"
   ]
  },
  {
   "cell_type": "code",
   "execution_count": 3,
   "metadata": {},
   "outputs": [],
   "source": [
    "def load_ims(fnames, addr='../img_align_celeba/'):\n",
    "    ims = []\n",
    "    for fname in fnames:\n",
    "        ims.append(io.imread(addr + fname))\n",
    "    return np.stack(ims)"
   ]
  },
  {
   "cell_type": "code",
   "execution_count": 4,
   "metadata": {},
   "outputs": [],
   "source": [
    "def ran_transform(X):\n",
    "    height = X.shape[1]# // 2\n",
    "    width = X.shape[2]# // 2\n",
    "    X_out = np.zeros((X.shape[0], height, width, 3), dtype=np.float32)\n",
    "    \n",
    "    for idx, x in enumerate(X):\n",
    "        x = transform.resize(x, (height, width))\n",
    "        angle = np.random.uniform(-10, 10)\n",
    "        h_scale = np.random.randint(0, 10)\n",
    "        v_scale = np.random.randint(0, 10)\n",
    "        h_pos = np.random.randint(0, h_scale + 1)\n",
    "        v_pos = np.random.randint(0, v_scale + 1)\n",
    "        x = transform.rotate(x, angle)\n",
    "        x = transform.resize(x, (height + v_scale, width + h_scale))\n",
    "        x = x[v_pos:height + v_pos, h_pos: width + h_pos]\n",
    "        X_out[idx] = x\n",
    "    X_out = X_out.transpose([0, 3, 1, 2])\n",
    "    return X_out\n",
    "\n",
    "def test_transform(X):\n",
    "    height = X.shape[1] #// 2\n",
    "    width = X.shape[2] #// 2\n",
    "    X_out = np.zeros((X.shape[0], height, width, 3), dtype=np.float32)\n",
    "    for idx, x in enumerate(X):\n",
    "        x = transform.resize(x, (height, width))\n",
    "        X_out[idx] = x\n",
    "    X_out = X_out.transpose([0, 3, 1, 2])\n",
    "    return X_out"
   ]
  },
  {
   "cell_type": "code",
   "execution_count": 5,
   "metadata": {},
   "outputs": [],
   "source": [
    "def batch_gen(fnames, labels, batch_size, epoch_size, addr='../img_align_celeba/'):\n",
    "    for bn in range(epoch_size):\n",
    "        ids = np.random.randint(0, len(fnames), batch_size)\n",
    "        X = ran_transform(load_ims(fnames[ids], addr))\n",
    "        y = labels[ids]\n",
    "        yield X, y"
   ]
  },
  {
   "cell_type": "code",
   "execution_count": 6,
   "metadata": {},
   "outputs": [],
   "source": [
    "class MyVGG(nn.Module):\n",
    "    \n",
    "    def __init__(self):\n",
    "        super(MyVGG, self).__init__()\n",
    "        self.features = torchvision.models.squeezenet1_0(pretrained=False).features\n",
    "        #for par in self.features.parameters():\n",
    "        #    par.requires_grad=False\n",
    "        #15360\n",
    "        #66560\n",
    "        self.embeddings = nn.Sequential(nn.Linear(66560, 1024), nn.ReLU(inplace=True), nn.Dropout(0.5),\n",
    "                                        #nn.Linear(2048, 1024), nn.ReLU(inplace=True), nn.Dropout(0.5),\n",
    "                                        nn.Linear(1024, 128))\n",
    "        self.classif = nn.Sequential(self.embeddings, nn.ReLU(), nn.Linear(128, 40))\n",
    "        \n",
    "    def forward(self, x):\n",
    "        x = self.features(x)\n",
    "        x = x.view(x.shape[0], -1)\n",
    "        # print(x.shape)\n",
    "        return F.sigmoid(self.classif(x))\n",
    "    \n",
    "    def get_embeddings(self, x):\n",
    "        x = self.features(x)\n",
    "        x = x.view(x.shape[0], -1)\n",
    "        x = F.relu(self.embeddings(x))\n",
    " \n",
    "        return F.normalize(self.embeddings_layer(x), dim=1)"
   ]
  },
  {
   "cell_type": "code",
   "execution_count": 7,
   "metadata": {},
   "outputs": [],
   "source": [
    "class Logger:\n",
    "    def __init__(self, filename):\n",
    "        self.filename = filename\n",
    "        self.logstack = []\n",
    "        \n",
    "    def log(self, text):\n",
    "        self.logstack.append(text)\n",
    "        \n",
    "    def flush(self):\n",
    "\n",
    "        with open(self.filename, 'a') as f:\n",
    "            for text in self.logstack:\n",
    "                f.write(text + '\\n')\n",
    "        self.logstack = []\n",
    "        "
   ]
  },
  {
   "cell_type": "code",
   "execution_count": 8,
   "metadata": {},
   "outputs": [
    {
     "name": "stderr",
     "output_type": "stream",
     "text": [
      "/usr/local/lib/python3.5/dist-packages/skimage/transform/_warps.py:84: UserWarning: The default mode, 'constant', will be changed to 'reflect' in skimage 0.15.\n",
      "  warn(\"The default mode, 'constant', will be changed to 'reflect' in \"\n"
     ]
    }
   ],
   "source": [
    "from sklearn.model_selection import train_test_split\n",
    "train_names, test_names = train_test_split(fnames, test_size=0.03, random_state=1234)\n",
    "X_test = test_transform(load_ims(test_names))\n",
    "y_test = labels[np.array([f_ids[name] for name in test_names])]\n",
    "y_train = labels[np.array([f_ids[name] for name in train_names])]"
   ]
  },
  {
   "cell_type": "code",
   "execution_count": 9,
   "metadata": {},
   "outputs": [],
   "source": [
    "torch.cuda.set_device(5)"
   ]
  },
  {
   "cell_type": "code",
   "execution_count": 10,
   "metadata": {},
   "outputs": [],
   "source": [
    "net = MyVGG().cuda()\n",
    "optimizer = torch.optim.Adam(net.parameters(), lr=0.0001)\n",
    "criterion = F.binary_cross_entropy"
   ]
  },
  {
   "cell_type": "code",
   "execution_count": 10,
   "metadata": {},
   "outputs": [],
   "source": [
    "epoch = 0"
   ]
  },
  {
   "cell_type": "code",
   "execution_count": 11,
   "metadata": {},
   "outputs": [],
   "source": [
    "net = MyVGG()\n",
    "net.load_state_dict(torch.load('model_classif'))\n",
    "net.cuda()\n",
    "optimizer = torch.optim.Adam(net.parameters(), lr=0.00001)\n",
    "criterion = F.binary_cross_entropy"
   ]
  },
  {
   "cell_type": "code",
   "execution_count": null,
   "metadata": {},
   "outputs": [
    {
     "name": "stderr",
     "output_type": "stream",
     "text": [
      "/usr/local/lib/python3.5/dist-packages/skimage/transform/_warps.py:84: UserWarning: The default mode, 'constant', will be changed to 'reflect' in skimage 0.15.\n",
      "  warn(\"The default mode, 'constant', will be changed to 'reflect' in \"\n"
     ]
    }
   ],
   "source": [
    "batch_size = 50\n",
    "epoch_size = 50\n",
    "n_epochs = 3000\n",
    "logger = Logger('logs3.txt')\n",
    "curloss = 100000\n",
    "for n in range(n_epochs):\n",
    "    net.train()\n",
    "    for b_id, (x, y) in enumerate(batch_gen(train_names, y_train, batch_size, epoch_size)):\n",
    "        x = Variable(torch.FloatTensor(x).cuda())\n",
    "        y = Variable(torch.FloatTensor(y).cuda())\n",
    "        optimizer.zero_grad()\n",
    "        out = net(x)\n",
    "        loss = criterion(out, y)\n",
    "        loss.backward()\n",
    "        optimizer.step()\n",
    "        lossv = loss.data.cpu().numpy()[0]\n",
    "        logger.log(' '.join(['train', str(epoch), str(b_id), str(lossv)]))\n",
    "    net.eval()\n",
    "    test_ids = np.random.randint(0, X_test.shape[0], batch_size)\n",
    "    x = Variable(torch.FloatTensor(X_test[test_ids]).cuda())\n",
    "    y = Variable(torch.FloatTensor(y_test[test_ids]).cuda())\n",
    "    out = net(x)\n",
    "    loss = criterion(out, y)\n",
    "    lossv = loss.data.cpu().numpy()[0]\n",
    "    logger.log(' '.join(['test', str(epoch), str(lossv)]))\n",
    "    if lossv < curloss:\n",
    "        curloss = lossv\n",
    "        torch.save(net.state_dict(), 'model')\n",
    "    epoch += 1\n",
    "    logger.flush()\n",
    "        "
   ]
  },
  {
   "cell_type": "code",
   "execution_count": 11,
   "metadata": {},
   "outputs": [
    {
     "data": {
      "text/plain": [
       "MyVGG(\n",
       "  (features): Sequential(\n",
       "    (0): Conv2d(3, 96, kernel_size=(7, 7), stride=(2, 2))\n",
       "    (1): ReLU(inplace)\n",
       "    (2): MaxPool2d(kernel_size=(3, 3), stride=(2, 2), dilation=(1, 1), ceil_mode=True)\n",
       "    (3): Fire(\n",
       "      (squeeze): Conv2d(96, 16, kernel_size=(1, 1), stride=(1, 1))\n",
       "      (squeeze_activation): ReLU(inplace)\n",
       "      (expand1x1): Conv2d(16, 64, kernel_size=(1, 1), stride=(1, 1))\n",
       "      (expand1x1_activation): ReLU(inplace)\n",
       "      (expand3x3): Conv2d(16, 64, kernel_size=(3, 3), stride=(1, 1), padding=(1, 1))\n",
       "      (expand3x3_activation): ReLU(inplace)\n",
       "    )\n",
       "    (4): Fire(\n",
       "      (squeeze): Conv2d(128, 16, kernel_size=(1, 1), stride=(1, 1))\n",
       "      (squeeze_activation): ReLU(inplace)\n",
       "      (expand1x1): Conv2d(16, 64, kernel_size=(1, 1), stride=(1, 1))\n",
       "      (expand1x1_activation): ReLU(inplace)\n",
       "      (expand3x3): Conv2d(16, 64, kernel_size=(3, 3), stride=(1, 1), padding=(1, 1))\n",
       "      (expand3x3_activation): ReLU(inplace)\n",
       "    )\n",
       "    (5): Fire(\n",
       "      (squeeze): Conv2d(128, 32, kernel_size=(1, 1), stride=(1, 1))\n",
       "      (squeeze_activation): ReLU(inplace)\n",
       "      (expand1x1): Conv2d(32, 128, kernel_size=(1, 1), stride=(1, 1))\n",
       "      (expand1x1_activation): ReLU(inplace)\n",
       "      (expand3x3): Conv2d(32, 128, kernel_size=(3, 3), stride=(1, 1), padding=(1, 1))\n",
       "      (expand3x3_activation): ReLU(inplace)\n",
       "    )\n",
       "    (6): MaxPool2d(kernel_size=(3, 3), stride=(2, 2), dilation=(1, 1), ceil_mode=True)\n",
       "    (7): Fire(\n",
       "      (squeeze): Conv2d(256, 32, kernel_size=(1, 1), stride=(1, 1))\n",
       "      (squeeze_activation): ReLU(inplace)\n",
       "      (expand1x1): Conv2d(32, 128, kernel_size=(1, 1), stride=(1, 1))\n",
       "      (expand1x1_activation): ReLU(inplace)\n",
       "      (expand3x3): Conv2d(32, 128, kernel_size=(3, 3), stride=(1, 1), padding=(1, 1))\n",
       "      (expand3x3_activation): ReLU(inplace)\n",
       "    )\n",
       "    (8): Fire(\n",
       "      (squeeze): Conv2d(256, 48, kernel_size=(1, 1), stride=(1, 1))\n",
       "      (squeeze_activation): ReLU(inplace)\n",
       "      (expand1x1): Conv2d(48, 192, kernel_size=(1, 1), stride=(1, 1))\n",
       "      (expand1x1_activation): ReLU(inplace)\n",
       "      (expand3x3): Conv2d(48, 192, kernel_size=(3, 3), stride=(1, 1), padding=(1, 1))\n",
       "      (expand3x3_activation): ReLU(inplace)\n",
       "    )\n",
       "    (9): Fire(\n",
       "      (squeeze): Conv2d(384, 48, kernel_size=(1, 1), stride=(1, 1))\n",
       "      (squeeze_activation): ReLU(inplace)\n",
       "      (expand1x1): Conv2d(48, 192, kernel_size=(1, 1), stride=(1, 1))\n",
       "      (expand1x1_activation): ReLU(inplace)\n",
       "      (expand3x3): Conv2d(48, 192, kernel_size=(3, 3), stride=(1, 1), padding=(1, 1))\n",
       "      (expand3x3_activation): ReLU(inplace)\n",
       "    )\n",
       "    (10): Fire(\n",
       "      (squeeze): Conv2d(384, 64, kernel_size=(1, 1), stride=(1, 1))\n",
       "      (squeeze_activation): ReLU(inplace)\n",
       "      (expand1x1): Conv2d(64, 256, kernel_size=(1, 1), stride=(1, 1))\n",
       "      (expand1x1_activation): ReLU(inplace)\n",
       "      (expand3x3): Conv2d(64, 256, kernel_size=(3, 3), stride=(1, 1), padding=(1, 1))\n",
       "      (expand3x3_activation): ReLU(inplace)\n",
       "    )\n",
       "    (11): MaxPool2d(kernel_size=(3, 3), stride=(2, 2), dilation=(1, 1), ceil_mode=True)\n",
       "    (12): Fire(\n",
       "      (squeeze): Conv2d(512, 64, kernel_size=(1, 1), stride=(1, 1))\n",
       "      (squeeze_activation): ReLU(inplace)\n",
       "      (expand1x1): Conv2d(64, 256, kernel_size=(1, 1), stride=(1, 1))\n",
       "      (expand1x1_activation): ReLU(inplace)\n",
       "      (expand3x3): Conv2d(64, 256, kernel_size=(3, 3), stride=(1, 1), padding=(1, 1))\n",
       "      (expand3x3_activation): ReLU(inplace)\n",
       "    )\n",
       "  )\n",
       "  (embeddings): Sequential(\n",
       "    (0): Linear(in_features=66560, out_features=1024, bias=True)\n",
       "    (1): ReLU(inplace)\n",
       "    (2): Dropout(p=0.5)\n",
       "    (3): Linear(in_features=1024, out_features=128, bias=True)\n",
       "  )\n",
       "  (classif): Sequential(\n",
       "    (0): Sequential(\n",
       "      (0): Linear(in_features=66560, out_features=1024, bias=True)\n",
       "      (1): ReLU(inplace)\n",
       "      (2): Dropout(p=0.5)\n",
       "      (3): Linear(in_features=1024, out_features=128, bias=True)\n",
       "    )\n",
       "    (1): ReLU()\n",
       "    (2): Linear(in_features=128, out_features=40, bias=True)\n",
       "  )\n",
       ")"
      ]
     },
     "execution_count": 11,
     "metadata": {},
     "output_type": "execute_result"
    }
   ],
   "source": [
    "net.cpu()"
   ]
  },
  {
   "cell_type": "code",
   "execution_count": 12,
   "metadata": {},
   "outputs": [],
   "source": [
    "torch.save(net.state_dict(), 'model_classif')"
   ]
  },
  {
   "cell_type": "code",
   "execution_count": null,
   "metadata": {},
   "outputs": [],
   "source": []
  }
 ],
 "metadata": {
  "kernelspec": {
   "display_name": "Python 3",
   "language": "python",
   "name": "python3"
  },
  "language_info": {
   "codemirror_mode": {
    "name": "ipython",
    "version": 3
   },
   "file_extension": ".py",
   "mimetype": "text/x-python",
   "name": "python",
   "nbconvert_exporter": "python",
   "pygments_lexer": "ipython3",
   "version": "3.5.2"
  }
 },
 "nbformat": 4,
 "nbformat_minor": 2
}
