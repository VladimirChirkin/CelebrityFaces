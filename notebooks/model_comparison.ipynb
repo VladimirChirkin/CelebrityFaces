{
 "cells": [
  {
   "cell_type": "code",
   "execution_count": 69,
   "metadata": {},
   "outputs": [],
   "source": [
    "import numpy as np\n",
    "import pickle\n",
    "import tqdm\n",
    "import matplotlib.pyplot as plt\n",
    "%matplotlib inline"
   ]
  },
  {
   "cell_type": "markdown",
   "metadata": {},
   "source": [
    "Итак, мы хотим сравнить различные модели генерации эмбеддингов по качеству. Можно выбрать следующую метрику. Возьмем одну фотографию. Отсортируем все эмбеддинги по расстоянию до выбранного эмбеддинга. Далее мы можем использовать метрику качества ранжирования(например ndcg), при этом считая релевантными объекты, которые имеют тот же identity label. Такую метрику можно померить на некотором подмножестве объектов(на всех будет долго очень), общем для обоих моделей и усреднить.\n",
    "\n",
    "Для эксперимента возьмем обученные эмбеддинги от модели facenet, и от самостоятельно обученной модели, а также нам понадобятся identity labels."
   ]
  },
  {
   "cell_type": "code",
   "execution_count": 2,
   "metadata": {},
   "outputs": [],
   "source": [
    "embs_facenet = pickle.load(open('app/index/embeddings', 'rb'))"
   ]
  },
  {
   "cell_type": "code",
   "execution_count": 3,
   "metadata": {},
   "outputs": [],
   "source": [
    "embs_torch = pickle.load(open('app/index/embeddings_torch', 'rb'))"
   ]
  },
  {
   "cell_type": "code",
   "execution_count": 4,
   "metadata": {},
   "outputs": [],
   "source": [
    "with open('../eval/identity_CelebA.txt') as f:\n",
    "    labels = np.array([int(line.rstrip().split(' ')[1]) for line in f])"
   ]
  },
  {
   "cell_type": "code",
   "execution_count": 5,
   "metadata": {},
   "outputs": [
    {
     "data": {
      "text/plain": [
       "((202599, 128), (202599, 128), (202599,))"
      ]
     },
     "execution_count": 5,
     "metadata": {},
     "output_type": "execute_result"
    }
   ],
   "source": [
    "embs_facenet.shape, embs_torch.shape, labels.shape"
   ]
  },
  {
   "cell_type": "code",
   "execution_count": 11,
   "metadata": {},
   "outputs": [],
   "source": [
    "def normalize(embeddings):\n",
    "    norms = np.sqrt((embeddings**2).sum(axis=1))\n",
    "    return (embeddings.T / norms).T\n",
    "\n",
    "def distances(emb, embeddings):\n",
    "    return np.sqrt(np.sum((embeddings - emb) ** 2, axis=1))"
   ]
  },
  {
   "cell_type": "code",
   "execution_count": 10,
   "metadata": {},
   "outputs": [],
   "source": [
    "embs_facenet = normalize(embs_facenet)\n",
    "embs_torch = normalize(embs_torch)"
   ]
  },
  {
   "cell_type": "code",
   "execution_count": 51,
   "metadata": {},
   "outputs": [],
   "source": [
    "def ndcg(idx, embeddings, labels):\n",
    "    emb = embeddings[idx]\n",
    "    dists = distances(emb, embeddings)\n",
    "    ranks = np.argsort(dists)\n",
    "    relevant_ranks = ranks[labels == labels[idx]][1:]\n",
    "    n_rel = len(relevant_ranks)\n",
    "    dcg = np.sum(1 / np.log2(1 + relevant_ranks))\n",
    "    idcg = np.sum(1 / np.log2(2 + np.arange(n_rel)))\n",
    "    return dcg / idcg"
   ]
  },
  {
   "cell_type": "code",
   "execution_count": 60,
   "metadata": {},
   "outputs": [],
   "source": [
    "test_objects = np.random.randint(0, len(labels), 1000)"
   ]
  },
  {
   "cell_type": "code",
   "execution_count": 61,
   "metadata": {},
   "outputs": [
    {
     "name": "stderr",
     "output_type": "stream",
     "text": [
      "100%|██████████| 1000/1000 [03:18<00:00,  5.04it/s]\n"
     ]
    }
   ],
   "source": [
    "facenet_scores = [ndcg(idx, embs_facenet, labels) for idx in tqdm.tqdm(test_objects)]"
   ]
  },
  {
   "cell_type": "code",
   "execution_count": 62,
   "metadata": {},
   "outputs": [
    {
     "name": "stderr",
     "output_type": "stream",
     "text": [
      "100%|██████████| 1000/1000 [03:11<00:00,  5.23it/s]\n"
     ]
    }
   ],
   "source": [
    "mynet_scores = [ndcg(idx, embs_torch, labels) for idx in tqdm.tqdm(test_objects)]"
   ]
  },
  {
   "cell_type": "code",
   "execution_count": 64,
   "metadata": {},
   "outputs": [
    {
     "name": "stdout",
     "output_type": "stream",
     "text": [
      "0.1834445546168095 0.1836680363338563\n"
     ]
    }
   ],
   "source": [
    "print(np.array(facenet_scores).mean(), np.array(mynet_scores).mean())"
   ]
  },
  {
   "cell_type": "markdown",
   "metadata": {},
   "source": [
    "Кажется на первый взгляд интересным, что числа такие близкие. Но можно проделать следующий эксперимент. Просто отобразим ранги объектов с одинаковыми метками"
   ]
  },
  {
   "cell_type": "code",
   "execution_count": 67,
   "metadata": {},
   "outputs": [
    {
     "name": "stdout",
     "output_type": "stream",
     "text": [
      "[5393, 8073, 13822, 17066, 18980, 26530, 27237, 44372, 55175, 61702, 67579, 79843, 81527, 82578, 86420, 91984, 95215, 112601, 113152, 138033, 139892, 156465, 158219, 172411, 178948, 182755, 187200, 188604, 200096]\n"
     ]
    }
   ],
   "source": [
    "emb = embs_facenet[0]\n",
    "dists = distances(emb, embs_facenet)\n",
    "ranks = np.argsort(dists)\n",
    "relevant_ranks = ranks[labels == labels[0]][1:]\n",
    "print(sorted(relevant_ranks))"
   ]
  },
  {
   "cell_type": "markdown",
   "metadata": {},
   "source": [
    "Видим, что идентичность определяется не так хорошо. Возможно дело в том, что датасет достаточно шумный и фотографии действительно очень разные. Я сам эту идентичность на глаз плохо определяю. Это примерно согласуется с тем, как я смотрел выдачи. Достаточно редко он выдает одного и того же человека, но при этом все в выдач чем-то похожи."
   ]
  },
  {
   "cell_type": "markdown",
   "metadata": {},
   "source": [
    "Хотя интересно, что наша сеть получилась чуть выше по этой метрике."
   ]
  },
  {
   "cell_type": "code",
   "execution_count": null,
   "metadata": {},
   "outputs": [],
   "source": []
  }
 ],
 "metadata": {
  "kernelspec": {
   "display_name": "Python 3",
   "language": "python",
   "name": "python3"
  },
  "language_info": {
   "codemirror_mode": {
    "name": "ipython",
    "version": 3
   },
   "file_extension": ".py",
   "mimetype": "text/x-python",
   "name": "python",
   "nbconvert_exporter": "python",
   "pygments_lexer": "ipython3",
   "version": "3.5.2"
  }
 },
 "nbformat": 4,
 "nbformat_minor": 2
}
